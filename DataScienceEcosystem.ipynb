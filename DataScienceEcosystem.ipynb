{
 "cells": [
  {
   "cell_type": "markdown",
   "id": "7d7dc137-f30f-4078-b1ec-fe8f10803f6f",
   "metadata": {},
   "source": [
    "# Data Science Tools and Ecosystem"
   ]
  },
  {
   "cell_type": "markdown",
   "id": "eae689b7-2941-4188-ab1b-2f5294577fd9",
   "metadata": {},
   "source": [
    "In this notebook, Data Science Tools and Ecosystem are summarized."
   ]
  },
  {
   "cell_type": "markdown",
   "id": "6aa1fed7-01cc-4e04-97e9-1b3d8047a7aa",
   "metadata": {},
   "source": [
    "**Objectives:**"
   ]
  },
  {
   "cell_type": "markdown",
   "id": "e0e7c048-cf73-481a-a594-b225c9d2fb08",
   "metadata": {},
   "source": [
    "- List popular languages for Data Science\n",
    "- List commonly used libraries for Data Science\n",
    "- Identify frequently used Data Science Tools"
   ]
  },
  {
   "cell_type": "markdown",
   "id": "d3fb0240-7a5c-4224-9a7d-b1fecb879a5f",
   "metadata": {},
   "source": [
    "##### Some of the popular languages that Data Scientists use are:"
   ]
  },
  {
   "cell_type": "markdown",
   "id": "20123549-892f-4d7b-b45b-810926db6a15",
   "metadata": {},
   "source": [
    "1. Python\n",
    "2. R\n",
    "3. SQL"
   ]
  },
  {
   "cell_type": "markdown",
   "id": "91d6f5f3-6fd0-405f-b48b-d901c7b489e1",
   "metadata": {},
   "source": [
    "##### Some of the commonly used libraries used by Data Scientists include:"
   ]
  },
  {
   "cell_type": "markdown",
   "id": "c4c6b561-1702-428f-b9a3-41944b94344d",
   "metadata": {},
   "source": [
    "1. NumPy\n",
    "2. Pandas\n",
    "3. Matplotlib"
   ]
  },
  {
   "cell_type": "markdown",
   "id": "0bcbcac3-c221-4826-9c0a-261fd2f53290",
   "metadata": {},
   "source": [
    "### Data Science Tools"
   ]
  },
  {
   "cell_type": "markdown",
   "id": "0bb3692e-ad1a-4b8f-a820-b9e688fdb77d",
   "metadata": {},
   "source": [
    "| Data Science Tools |\n",
    "| -------------------| \n",
    "| Jupyter Notebook |\n",
    "| RStudio | \n",
    "| VS Code | "
   ]
  },
  {
   "cell_type": "markdown",
   "id": "0e273ee1-714d-491a-a968-e34cd7349e3e",
   "metadata": {},
   "source": [
    "### Below are a few examples of evaluating arithmetic expressions in Python:"
   ]
  },
  {
   "cell_type": "code",
   "execution_count": 2,
   "id": "da76a230-731a-456a-a50a-1ab1c1c0b4c2",
   "metadata": {},
   "outputs": [
    {
     "data": {
      "text/plain": [
       "17"
      ]
     },
     "execution_count": 2,
     "metadata": {},
     "output_type": "execute_result"
    }
   ],
   "source": [
    "#This a simple arithmetic expression to mutiply then add integers.\n",
    "(3*4)+5"
   ]
  },
  {
   "cell_type": "code",
   "execution_count": 3,
   "id": "79c00baa-7f78-4d25-a93e-8d2e4ed80653",
   "metadata": {},
   "outputs": [
    {
     "data": {
      "text/plain": [
       "3.3333333333333335"
      ]
     },
     "execution_count": 3,
     "metadata": {},
     "output_type": "execute_result"
    }
   ],
   "source": [
    "#This will convert 200 minutes to hours by diving by 60\n",
    "200/60"
   ]
  },
  {
   "cell_type": "markdown",
   "id": "dd7948f4-d3aa-4cfc-a090-21b752d70653",
   "metadata": {},
   "source": [
    "## Author"
   ]
  },
  {
   "cell_type": "markdown",
   "id": "24d516a8-f18f-4222-b389-88072c397864",
   "metadata": {},
   "source": [
    "Sofia"
   ]
  },
  {
   "cell_type": "code",
   "execution_count": null,
   "id": "5826c9cf-a325-426c-aedf-2af5b46cb237",
   "metadata": {},
   "outputs": [],
   "source": []
  }
 ],
 "metadata": {
  "kernelspec": {
   "display_name": "Python [conda env:base] *",
   "language": "python",
   "name": "conda-base-py"
  },
  "language_info": {
   "codemirror_mode": {
    "name": "ipython",
    "version": 3
   },
   "file_extension": ".py",
   "mimetype": "text/x-python",
   "name": "python",
   "nbconvert_exporter": "python",
   "pygments_lexer": "ipython3",
   "version": "3.13.5"
  }
 },
 "nbformat": 4,
 "nbformat_minor": 5
}
